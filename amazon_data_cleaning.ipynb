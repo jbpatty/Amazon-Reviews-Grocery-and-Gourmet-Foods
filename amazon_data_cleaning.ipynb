{
 "cells": [
  {
   "cell_type": "code",
   "execution_count": 2,
   "metadata": {},
   "outputs": [],
   "source": [
    "import pandas as pd\n",
    "import numpy as np"
   ]
  },
  {
   "cell_type": "code",
   "execution_count": null,
   "metadata": {},
   "outputs": [],
   "source": [
    "amazon_df = pd.read_csv(\"/Users/jbpatty/project-4/Grocery_and_Gourmet_Food.csv\", error_bad_lines=False, nrows=1000000, header=None)"
   ]
  },
  {
   "cell_type": "code",
   "execution_count": null,
   "metadata": {},
   "outputs": [],
   "source": [
    "amazon_df.to_csv (r'/Users/jbpatty/project-4/amazon_df.csv', index = False, header=None)"
   ]
  },
  {
   "cell_type": "code",
   "execution_count": null,
   "metadata": {},
   "outputs": [],
   "source": [
    "# Read file into a list of strings (each line is a string)"
   ]
  },
  {
   "cell_type": "code",
   "execution_count": 3,
   "metadata": {},
   "outputs": [],
   "source": [
    "with open('/Users/jbpatty/project-4/amazon_df.csv') as f:\n",
    "    data = f.readlines()"
   ]
  },
  {
   "cell_type": "code",
   "execution_count": 4,
   "metadata": {},
   "outputs": [
    {
     "data": {
      "text/plain": [
       "1000000"
      ]
     },
     "execution_count": 4,
     "metadata": {},
     "output_type": "execute_result"
    }
   ],
   "source": [
    "len(data)"
   ]
  },
  {
   "cell_type": "code",
   "execution_count": 5,
   "metadata": {},
   "outputs": [],
   "source": [
    "# Capitalize booleans"
   ]
  },
  {
   "cell_type": "code",
   "execution_count": 6,
   "metadata": {},
   "outputs": [],
   "source": [
    "data = [row.replace(': true', ': True') for row in data]"
   ]
  },
  {
   "cell_type": "code",
   "execution_count": 7,
   "metadata": {},
   "outputs": [],
   "source": [
    "data = [row.replace(': false', ': False') for row in data]"
   ]
  },
  {
   "cell_type": "code",
   "execution_count": 8,
   "metadata": {},
   "outputs": [
    {
     "data": {
      "text/plain": [
       "'\"{\"\"overall\"\": 5.0\",\" \"\"verified\"\": True\",\" \"\"reviewTime\"\": \"\"06 4\",\" 2013\"\"\",\" \"\"reviewerID\"\": \"\"ALP49FBWT4I7V\"\"\",\" \"\"asin\"\": \"\"1888861614\"\"\",\" \"\"reviewerName\"\": \"\"Lori\"\"\",\" \"\"reviewText\"\": \"\"Very pleased with my purchase. Looks exactly like the picture and will look great on my cake. It definitely will sparkle.\"\"\",\" \"\"summary\"\": \"\"Love it\"\"\",\" \"\"unixReviewTime\"\": 1370304000}\"\\n'"
      ]
     },
     "execution_count": 8,
     "metadata": {},
     "output_type": "execute_result"
    }
   ],
   "source": [
    "data[0]"
   ]
  },
  {
   "cell_type": "code",
   "execution_count": 9,
   "metadata": {},
   "outputs": [],
   "source": [
    "row = data[0]"
   ]
  },
  {
   "cell_type": "code",
   "execution_count": 10,
   "metadata": {},
   "outputs": [
    {
     "data": {
      "text/plain": [
       "['5.0',\n",
       " 'True',\n",
       " '06 4  2013',\n",
       " 'ALP49FBWT4I7V',\n",
       " '1888861614',\n",
       " 'Lori',\n",
       " 'Very pleased with my purchase. Looks exactly like the picture and will look great on my cake. It definitely will sparkle.',\n",
       " 'Love it',\n",
       " '']"
      ]
     },
     "execution_count": 10,
     "metadata": {},
     "output_type": "execute_result"
    }
   ],
   "source": [
    "def get_values_from_row(row):\n",
    "    \n",
    "    return [(' '.join(v.split(',')[0:-1])).replace('\"', '').strip() for v in row.split(':')[1:]]\n",
    "\n",
    "get_values_from_row(row)"
   ]
  },
  {
   "cell_type": "code",
   "execution_count": 11,
   "metadata": {},
   "outputs": [],
   "source": [
    "cleaned_data = [get_values_from_row(row) for row in data]"
   ]
  },
  {
   "cell_type": "code",
   "execution_count": 12,
   "metadata": {},
   "outputs": [],
   "source": [
    "# Create dataframe"
   ]
  },
  {
   "cell_type": "code",
   "execution_count": 13,
   "metadata": {},
   "outputs": [],
   "source": [
    "data = pd.DataFrame(cleaned_data)"
   ]
  },
  {
   "cell_type": "code",
   "execution_count": 14,
   "metadata": {},
   "outputs": [],
   "source": [
    "data = data.drop(columns = [8, 9, 10, 11,12, 13, 14, 15, 16, 17, 18, 19, 20, 21, 22, 23, 24, 25, 26, 27, 28, 29, 30, 31, 32, 33, 34, 35, 36, 37, 38, 39, 40, 41, 42, 43, 44, 45, 46, 47, 48, 49, 50, 51, 52, 53, 54, 55, 56, 57, 58, 59, 60, 61, 62, 63, 64, 65, 66, 67, 68, 69, 70, 71, 72, 73, 74, 75, 76, 77, 78, 79, 80, 81, 82, 83, 84, 85, 86], axis=1)"
   ]
  },
  {
   "cell_type": "code",
   "execution_count": 15,
   "metadata": {},
   "outputs": [],
   "source": [
    "data.columns = [\"overall\", \"verified\",\"review_time\", \"reviewer_ID\", \"asin\", \"reviewer_name\", \"review_text\", \"summary\"]"
   ]
  },
  {
   "cell_type": "code",
   "execution_count": 16,
   "metadata": {},
   "outputs": [
    {
     "data": {
      "text/html": [
       "<div>\n",
       "<style scoped>\n",
       "    .dataframe tbody tr th:only-of-type {\n",
       "        vertical-align: middle;\n",
       "    }\n",
       "\n",
       "    .dataframe tbody tr th {\n",
       "        vertical-align: top;\n",
       "    }\n",
       "\n",
       "    .dataframe thead th {\n",
       "        text-align: right;\n",
       "    }\n",
       "</style>\n",
       "<table border=\"1\" class=\"dataframe\">\n",
       "  <thead>\n",
       "    <tr style=\"text-align: right;\">\n",
       "      <th></th>\n",
       "      <th>overall</th>\n",
       "      <th>verified</th>\n",
       "      <th>review_time</th>\n",
       "      <th>reviewer_ID</th>\n",
       "      <th>asin</th>\n",
       "      <th>reviewer_name</th>\n",
       "      <th>review_text</th>\n",
       "      <th>summary</th>\n",
       "    </tr>\n",
       "  </thead>\n",
       "  <tbody>\n",
       "    <tr>\n",
       "      <th>0</th>\n",
       "      <td>5.0</td>\n",
       "      <td>True</td>\n",
       "      <td>06 4  2013</td>\n",
       "      <td>ALP49FBWT4I7V</td>\n",
       "      <td>1888861614</td>\n",
       "      <td>Lori</td>\n",
       "      <td>Very pleased with my purchase. Looks exactly l...</td>\n",
       "      <td>Love it</td>\n",
       "    </tr>\n",
       "    <tr>\n",
       "      <th>1</th>\n",
       "      <td>4.0</td>\n",
       "      <td>True</td>\n",
       "      <td>05 23  2014</td>\n",
       "      <td>A1KPIZOCLB9FZ8</td>\n",
       "      <td>1888861614</td>\n",
       "      <td>BK Shopper</td>\n",
       "      <td>Very nicely crafted but too small. Am going to...</td>\n",
       "      <td>Nice but small</td>\n",
       "    </tr>\n",
       "    <tr>\n",
       "      <th>2</th>\n",
       "      <td>4.0</td>\n",
       "      <td>True</td>\n",
       "      <td>04 16  2014</td>\n",
       "      <td>A2VNHGJ59N4Z90</td>\n",
       "      <td>1888861614</td>\n",
       "      <td>LaQuinta Alexander</td>\n",
       "      <td>It was just what I want to put at the top of m...</td>\n",
       "      <td>Topper</td>\n",
       "    </tr>\n",
       "    <tr>\n",
       "      <th>3</th>\n",
       "      <td>5.0</td>\n",
       "      <td>True</td>\n",
       "      <td>12 1  2013</td>\n",
       "      <td>A94ZG5CWN70E7</td>\n",
       "      <td>1888861614</td>\n",
       "      <td>trinette claude</td>\n",
       "      <td>Omg.. The S was inexpensive and EXACTLY what w...</td>\n",
       "      <td>Great quality for this product. I have never b...</td>\n",
       "    </tr>\n",
       "    <tr>\n",
       "      <th>4</th>\n",
       "      <td>3.0</td>\n",
       "      <td>True</td>\n",
       "      <td>11 6  2013</td>\n",
       "      <td>A3QBT8YC3CZ7C9</td>\n",
       "      <td>1888861614</td>\n",
       "      <td>Rela1982</td>\n",
       "      <td>It was a nice size for a cake topper and it wa...</td>\n",
       "      <td>Great Buy.</td>\n",
       "    </tr>\n",
       "    <tr>\n",
       "      <th>...</th>\n",
       "      <td>...</td>\n",
       "      <td>...</td>\n",
       "      <td>...</td>\n",
       "      <td>...</td>\n",
       "      <td>...</td>\n",
       "      <td>...</td>\n",
       "      <td>...</td>\n",
       "      <td>...</td>\n",
       "    </tr>\n",
       "    <tr>\n",
       "      <th>999995</th>\n",
       "      <td>5.0</td>\n",
       "      <td>True</td>\n",
       "      <td>06 1  2017</td>\n",
       "      <td>AQ1R8PH7GCDZK</td>\n",
       "      <td>B007H9WMY4</td>\n",
       "      <td>Robert H. Schwenk</td>\n",
       "      <td>All plants healthy. All plants grew while stil...</td>\n",
       "      <td>Healthy Grow</td>\n",
       "    </tr>\n",
       "    <tr>\n",
       "      <th>999996</th>\n",
       "      <td>5.0</td>\n",
       "      <td>True</td>\n",
       "      <td>04 7  2017</td>\n",
       "      <td>AME5AJAKKRTKX</td>\n",
       "      <td>B007H9WMY4</td>\n",
       "      <td>Jenisue74</td>\n",
       "      <td>I received my plants today and they actually b...</td>\n",
       "      <td>None</td>\n",
       "    </tr>\n",
       "    <tr>\n",
       "      <th>999997</th>\n",
       "      <td>5.0</td>\n",
       "      <td>True</td>\n",
       "      <td>03 26  2017</td>\n",
       "      <td>A20N2ACXPA38W5</td>\n",
       "      <td>B007H9WMY4</td>\n",
       "      <td>Charming</td>\n",
       "      <td>These plants arrived in excellent condition an...</td>\n",
       "      <td>Five Stars</td>\n",
       "    </tr>\n",
       "    <tr>\n",
       "      <th>999998</th>\n",
       "      <td>5.0</td>\n",
       "      <td>True</td>\n",
       "      <td>03 3  2017</td>\n",
       "      <td>A1YT2ZY87RZXKU</td>\n",
       "      <td>B007H9WMY4</td>\n",
       "      <td>Dana Parr</td>\n",
       "      <td>All heathly!</td>\n",
       "      <td>Five Stars</td>\n",
       "    </tr>\n",
       "    <tr>\n",
       "      <th>999999</th>\n",
       "      <td>5.0</td>\n",
       "      <td>True</td>\n",
       "      <td>02 9  2017</td>\n",
       "      <td>A2ERZAAJ6KWVQT</td>\n",
       "      <td>B007H9WMY4</td>\n",
       "      <td>L. Reynolds</td>\n",
       "      <td>I bought these for my 5 year old granddaughter...</td>\n",
       "      <td>Healthy plants</td>\n",
       "    </tr>\n",
       "  </tbody>\n",
       "</table>\n",
       "<p>1000000 rows × 8 columns</p>\n",
       "</div>"
      ],
      "text/plain": [
       "       overall verified  review_time     reviewer_ID        asin  \\\n",
       "0          5.0     True   06 4  2013   ALP49FBWT4I7V  1888861614   \n",
       "1          4.0     True  05 23  2014  A1KPIZOCLB9FZ8  1888861614   \n",
       "2          4.0     True  04 16  2014  A2VNHGJ59N4Z90  1888861614   \n",
       "3          5.0     True   12 1  2013   A94ZG5CWN70E7  1888861614   \n",
       "4          3.0     True   11 6  2013  A3QBT8YC3CZ7C9  1888861614   \n",
       "...        ...      ...          ...             ...         ...   \n",
       "999995     5.0     True   06 1  2017   AQ1R8PH7GCDZK  B007H9WMY4   \n",
       "999996     5.0     True   04 7  2017   AME5AJAKKRTKX  B007H9WMY4   \n",
       "999997     5.0     True  03 26  2017  A20N2ACXPA38W5  B007H9WMY4   \n",
       "999998     5.0     True   03 3  2017  A1YT2ZY87RZXKU  B007H9WMY4   \n",
       "999999     5.0     True   02 9  2017  A2ERZAAJ6KWVQT  B007H9WMY4   \n",
       "\n",
       "             reviewer_name                                        review_text  \\\n",
       "0                     Lori  Very pleased with my purchase. Looks exactly l...   \n",
       "1               BK Shopper  Very nicely crafted but too small. Am going to...   \n",
       "2       LaQuinta Alexander  It was just what I want to put at the top of m...   \n",
       "3          trinette claude  Omg.. The S was inexpensive and EXACTLY what w...   \n",
       "4                 Rela1982  It was a nice size for a cake topper and it wa...   \n",
       "...                    ...                                                ...   \n",
       "999995   Robert H. Schwenk  All plants healthy. All plants grew while stil...   \n",
       "999996           Jenisue74  I received my plants today and they actually b...   \n",
       "999997            Charming  These plants arrived in excellent condition an...   \n",
       "999998           Dana Parr                                       All heathly!   \n",
       "999999         L. Reynolds  I bought these for my 5 year old granddaughter...   \n",
       "\n",
       "                                                  summary  \n",
       "0                                                 Love it  \n",
       "1                                          Nice but small  \n",
       "2                                                  Topper  \n",
       "3       Great quality for this product. I have never b...  \n",
       "4                                              Great Buy.  \n",
       "...                                                   ...  \n",
       "999995                                       Healthy Grow  \n",
       "999996                                               None  \n",
       "999997                                         Five Stars  \n",
       "999998                                         Five Stars  \n",
       "999999                                     Healthy plants  \n",
       "\n",
       "[1000000 rows x 8 columns]"
      ]
     },
     "execution_count": 16,
     "metadata": {},
     "output_type": "execute_result"
    }
   ],
   "source": [
    "data"
   ]
  },
  {
   "cell_type": "code",
   "execution_count": 17,
   "metadata": {
    "scrolled": true
   },
   "outputs": [],
   "source": [
    "# Dropped verified values that were not True or False"
   ]
  },
  {
   "cell_type": "code",
   "execution_count": 18,
   "metadata": {},
   "outputs": [],
   "source": [
    "not_T_or_F = []\n",
    "\n",
    "for item in data['verified'].unique():\n",
    "    if len(item) > 5 or len(item) < 4:\n",
    "        not_T_or_F.append(item)"
   ]
  },
  {
   "cell_type": "code",
   "execution_count": 19,
   "metadata": {},
   "outputs": [],
   "source": [
    "for item in data['verified'].unique():\n",
    "    if item in not_T_or_F:\n",
    "        data.drop(data.loc[data['verified']== item].index, inplace=True)"
   ]
  },
  {
   "cell_type": "code",
   "execution_count": 20,
   "metadata": {},
   "outputs": [
    {
     "data": {
      "text/plain": [
       "array(['True', 'False'], dtype=object)"
      ]
     },
     "execution_count": 20,
     "metadata": {},
     "output_type": "execute_result"
    }
   ],
   "source": [
    "data['verified'].unique()"
   ]
  },
  {
   "cell_type": "code",
   "execution_count": 21,
   "metadata": {},
   "outputs": [],
   "source": [
    "# Save to access later\n",
    "data.to_pickle('/Users/jbpatty/project-4/true_false_cleaned.to_pickle')"
   ]
  },
  {
   "cell_type": "code",
   "execution_count": 61,
   "metadata": {},
   "outputs": [],
   "source": [
    "data = pd.read_pickle(r'/Users/jbpatty/project-4/true_false_cleaned.to_pickle')"
   ]
  },
  {
   "cell_type": "code",
   "execution_count": 65,
   "metadata": {},
   "outputs": [],
   "source": [
    "data['review_text'].replace('', np.nan, inplace=True)"
   ]
  },
  {
   "cell_type": "code",
   "execution_count": 67,
   "metadata": {},
   "outputs": [],
   "source": [
    "data.dropna(inplace=True)"
   ]
  },
  {
   "cell_type": "code",
   "execution_count": 85,
   "metadata": {},
   "outputs": [
    {
     "data": {
      "text/html": [
       "<div>\n",
       "<style scoped>\n",
       "    .dataframe tbody tr th:only-of-type {\n",
       "        vertical-align: middle;\n",
       "    }\n",
       "\n",
       "    .dataframe tbody tr th {\n",
       "        vertical-align: top;\n",
       "    }\n",
       "\n",
       "    .dataframe thead th {\n",
       "        text-align: right;\n",
       "    }\n",
       "</style>\n",
       "<table border=\"1\" class=\"dataframe\">\n",
       "  <thead>\n",
       "    <tr style=\"text-align: right;\">\n",
       "      <th></th>\n",
       "      <th>overall</th>\n",
       "      <th>verified</th>\n",
       "      <th>review_time</th>\n",
       "      <th>reviewer_ID</th>\n",
       "      <th>asin</th>\n",
       "      <th>reviewer_name</th>\n",
       "      <th>review_text</th>\n",
       "      <th>summary</th>\n",
       "    </tr>\n",
       "  </thead>\n",
       "  <tbody>\n",
       "    <tr>\n",
       "      <th>756884</th>\n",
       "      <td>5.0</td>\n",
       "      <td>True</td>\n",
       "      <td>10 12  2014</td>\n",
       "      <td>ASJVZOKKY75QN</td>\n",
       "      <td>B005CUK64S</td>\n",
       "      <td>April</td>\n",
       "      <td>If you are trying to cut out sugar and love ch...</td>\n",
       "      <td></td>\n",
       "    </tr>\n",
       "    <tr>\n",
       "      <th>26711</th>\n",
       "      <td>5.0</td>\n",
       "      <td>True</td>\n",
       "      <td>10 13  2015</td>\n",
       "      <td>A1FM32XQ4WYV2H</td>\n",
       "      <td>B0009JRKDC</td>\n",
       "      <td>R. Parakh</td>\n",
       "      <td>thin consistency - easy to apply - smells amaz...</td>\n",
       "      <td>thin consistency - easy to apply - smells amaz...</td>\n",
       "    </tr>\n",
       "    <tr>\n",
       "      <th>823392</th>\n",
       "      <td>5.0</td>\n",
       "      <td>True</td>\n",
       "      <td>11 1  2013</td>\n",
       "      <td>A1YSUQ5LHAT9IF</td>\n",
       "      <td>B005NGW5TK</td>\n",
       "      <td>Moaz</td>\n",
       "      <td>The flavor and texture are really good. Compar...</td>\n",
       "      <td></td>\n",
       "    </tr>\n",
       "    <tr>\n",
       "      <th>81123</th>\n",
       "      <td>5.0</td>\n",
       "      <td>True</td>\n",
       "      <td>01 8  2017</td>\n",
       "      <td>A2T9YR1CM696G1</td>\n",
       "      <td>B000H6AX0E</td>\n",
       "      <td>The Giz</td>\n",
       "      <td>Great product for my espresso machine when I j...</td>\n",
       "      <td>Works great in my expresso machine!</td>\n",
       "    </tr>\n",
       "    <tr>\n",
       "      <th>602118</th>\n",
       "      <td>5.0</td>\n",
       "      <td>True</td>\n",
       "      <td>06 7  2016</td>\n",
       "      <td>A3CA0ISQSUJB4D</td>\n",
       "      <td>B003DBL4VC</td>\n",
       "      <td>Amazon Customer</td>\n",
       "      <td>Good Coffee</td>\n",
       "      <td>Five Stars</td>\n",
       "    </tr>\n",
       "  </tbody>\n",
       "</table>\n",
       "</div>"
      ],
      "text/plain": [
       "        overall verified  review_time     reviewer_ID        asin  \\\n",
       "756884      5.0     True  10 12  2014   ASJVZOKKY75QN  B005CUK64S   \n",
       "26711       5.0     True  10 13  2015  A1FM32XQ4WYV2H  B0009JRKDC   \n",
       "823392      5.0     True   11 1  2013  A1YSUQ5LHAT9IF  B005NGW5TK   \n",
       "81123       5.0     True   01 8  2017  A2T9YR1CM696G1  B000H6AX0E   \n",
       "602118      5.0     True   06 7  2016  A3CA0ISQSUJB4D  B003DBL4VC   \n",
       "\n",
       "          reviewer_name                                        review_text  \\\n",
       "756884            April  If you are trying to cut out sugar and love ch...   \n",
       "26711         R. Parakh  thin consistency - easy to apply - smells amaz...   \n",
       "823392             Moaz  The flavor and texture are really good. Compar...   \n",
       "81123           The Giz  Great product for my espresso machine when I j...   \n",
       "602118  Amazon Customer                                        Good Coffee   \n",
       "\n",
       "                                                  summary  \n",
       "756884                                                     \n",
       "26711   thin consistency - easy to apply - smells amaz...  \n",
       "823392                                                     \n",
       "81123                 Works great in my expresso machine!  \n",
       "602118                                         Five Stars  "
      ]
     },
     "execution_count": 85,
     "metadata": {},
     "output_type": "execute_result"
    }
   ],
   "source": [
    "data.sample(5)"
   ]
  },
  {
   "cell_type": "code",
   "execution_count": 71,
   "metadata": {},
   "outputs": [],
   "source": [
    "data['overall'] = data['overall'].astype(float)"
   ]
  },
  {
   "cell_type": "code",
   "execution_count": 91,
   "metadata": {},
   "outputs": [],
   "source": [
    "data['review_time'] = data['review_time'].str.replace('-', '')"
   ]
  },
  {
   "cell_type": "code",
   "execution_count": 93,
   "metadata": {},
   "outputs": [],
   "source": [
    "data['review_time'] = pd.to_datetime(data['review_time'], format=\"%m-%d-%Y\")"
   ]
  },
  {
   "cell_type": "code",
   "execution_count": 96,
   "metadata": {},
   "outputs": [
    {
     "data": {
      "text/plain": [
       "overall                 float64\n",
       "verified                 object\n",
       "review_time      datetime64[ns]\n",
       "reviewer_ID              object\n",
       "asin                     object\n",
       "reviewer_name            object\n",
       "review_text              object\n",
       "summary                  object\n",
       "dtype: object"
      ]
     },
     "execution_count": 96,
     "metadata": {},
     "output_type": "execute_result"
    }
   ],
   "source": [
    "data.dtypes"
   ]
  },
  {
   "cell_type": "code",
   "execution_count": 97,
   "metadata": {},
   "outputs": [
    {
     "data": {
      "text/plain": [
       "0        2013-06-04\n",
       "1        2014-05-23\n",
       "2        2014-04-16\n",
       "3        2013-12-01\n",
       "4        2013-11-06\n",
       "            ...    \n",
       "999994   2017-06-22\n",
       "999995   2017-06-01\n",
       "999997   2017-03-26\n",
       "999998   2017-03-03\n",
       "999999   2017-02-09\n",
       "Name: review_time, Length: 500845, dtype: datetime64[ns]"
      ]
     },
     "execution_count": 97,
     "metadata": {},
     "output_type": "execute_result"
    }
   ],
   "source": [
    "data['review_time']"
   ]
  },
  {
   "cell_type": "code",
   "execution_count": 99,
   "metadata": {},
   "outputs": [],
   "source": [
    "# Save to access later\n",
    "data.to_pickle('/Users/jbpatty/project-4/amazon_data_cleaned.to_pickle')"
   ]
  },
  {
   "cell_type": "code",
   "execution_count": 100,
   "metadata": {},
   "outputs": [],
   "source": [
    "data = pd.read_pickle(r'/Users/jbpatty/project-4/amazon_data_cleaned.to_pickle')"
   ]
  }
 ],
 "metadata": {
  "kernelspec": {
   "display_name": "Python 3",
   "language": "python",
   "name": "python3"
  },
  "language_info": {
   "codemirror_mode": {
    "name": "ipython",
    "version": 3
   },
   "file_extension": ".py",
   "mimetype": "text/x-python",
   "name": "python",
   "nbconvert_exporter": "python",
   "pygments_lexer": "ipython3",
   "version": "3.8.3"
  }
 },
 "nbformat": 4,
 "nbformat_minor": 4
}
